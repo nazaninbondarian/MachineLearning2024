{
  "nbformat": 4,
  "nbformat_minor": 0,
  "metadata": {
    "colab": {
      "provenance": [],
      "authorship_tag": "ABX9TyMwVs5VIZZsQfZOW3ClqpxA",
      "include_colab_link": true
    },
    "kernelspec": {
      "name": "python3",
      "display_name": "Python 3"
    },
    "language_info": {
      "name": "python"
    }
  },
  "cells": [
    {
      "cell_type": "markdown",
      "metadata": {
        "id": "view-in-github",
        "colab_type": "text"
      },
      "source": [
        "<a href=\"https://colab.research.google.com/github/nazaninbondarian/MachineLearning2024/blob/main/Chapter%203/Question%201/Q1_D.ipynb\" target=\"_parent\"><img src=\"https://colab.research.google.com/assets/colab-badge.svg\" alt=\"Open In Colab\"/></a>"
      ]
    },
    {
      "cell_type": "code",
      "execution_count": 25,
      "metadata": {
        "id": "Q6BVEwPwqnqO"
      },
      "outputs": [],
      "source": [
        "# Import necessary libraries\n",
        "from sklearn import datasets\n",
        "import pandas as pd\n",
        "import numpy as np\n",
        "from sklearn.model_selection import train_test_split\n",
        "from sklearn.discriminant_analysis import LinearDiscriminantAnalysis as LDA\n",
        "import cvxopt\n",
        "from sklearn.svm import SVC\n",
        "from sklearn.preprocessing import LabelEncoder\n",
        "import matplotlib.pyplot as plt\n",
        "from sklearn.metrics import accuracy_score\n",
        "from sklearn.metrics import confusion_matrix, precision_score, recall_score, f1_score\n",
        "import seaborn as sns\n",
        "import os\n",
        "import imageio\n"
      ]
    },
    {
      "cell_type": "code",
      "source": [
        "!pip install numpy matplotlib scikit-learn imageio"
      ],
      "metadata": {
        "colab": {
          "base_uri": "https://localhost:8080/"
        },
        "id": "TnRfCvm4lMzr",
        "outputId": "12be3023-1ab8-43f7-e4ef-beef0856f919"
      },
      "execution_count": 26,
      "outputs": [
        {
          "output_type": "stream",
          "name": "stdout",
          "text": [
            "Requirement already satisfied: numpy in /usr/local/lib/python3.10/dist-packages (1.25.2)\n",
            "Requirement already satisfied: matplotlib in /usr/local/lib/python3.10/dist-packages (3.7.1)\n",
            "Requirement already satisfied: scikit-learn in /usr/local/lib/python3.10/dist-packages (1.2.2)\n",
            "Requirement already satisfied: imageio in /usr/local/lib/python3.10/dist-packages (2.31.6)\n",
            "Requirement already satisfied: contourpy>=1.0.1 in /usr/local/lib/python3.10/dist-packages (from matplotlib) (1.2.1)\n",
            "Requirement already satisfied: cycler>=0.10 in /usr/local/lib/python3.10/dist-packages (from matplotlib) (0.12.1)\n",
            "Requirement already satisfied: fonttools>=4.22.0 in /usr/local/lib/python3.10/dist-packages (from matplotlib) (4.53.0)\n",
            "Requirement already satisfied: kiwisolver>=1.0.1 in /usr/local/lib/python3.10/dist-packages (from matplotlib) (1.4.5)\n",
            "Requirement already satisfied: packaging>=20.0 in /usr/local/lib/python3.10/dist-packages (from matplotlib) (24.1)\n",
            "Requirement already satisfied: pillow>=6.2.0 in /usr/local/lib/python3.10/dist-packages (from matplotlib) (9.4.0)\n",
            "Requirement already satisfied: pyparsing>=2.3.1 in /usr/local/lib/python3.10/dist-packages (from matplotlib) (3.1.2)\n",
            "Requirement already satisfied: python-dateutil>=2.7 in /usr/local/lib/python3.10/dist-packages (from matplotlib) (2.8.2)\n",
            "Requirement already satisfied: scipy>=1.3.2 in /usr/local/lib/python3.10/dist-packages (from scikit-learn) (1.11.4)\n",
            "Requirement already satisfied: joblib>=1.1.1 in /usr/local/lib/python3.10/dist-packages (from scikit-learn) (1.4.2)\n",
            "Requirement already satisfied: threadpoolctl>=2.0.0 in /usr/local/lib/python3.10/dist-packages (from scikit-learn) (3.5.0)\n",
            "Requirement already satisfied: six>=1.5 in /usr/local/lib/python3.10/dist-packages (from python-dateutil>=2.7->matplotlib) (1.16.0)\n"
          ]
        }
      ]
    },
    {
      "cell_type": "code",
      "source": [
        "# Load the Iris dataset\n",
        "iris = datasets.load_iris()\n",
        "X = iris.data\n",
        "y = iris.target\n",
        "feature_names = iris.feature_names\n",
        "\n",
        "# Convert to DataFrame for easier manipulation\n",
        "df = pd.DataFrame(X, columns=feature_names)\n",
        "df['species'] = y"
      ],
      "metadata": {
        "id": "tHqkA9aDC-FI"
      },
      "execution_count": 27,
      "outputs": []
    },
    {
      "cell_type": "code",
      "source": [
        "# Split the dataset into training and testing sets\n",
        "X_train, X_test, y_train, y_test = train_test_split(X, y, test_size=0.2, random_state=76)\n",
        "X_train.shape, y_train.shape, X_test.shape, y_test.shape"
      ],
      "metadata": {
        "colab": {
          "base_uri": "https://localhost:8080/"
        },
        "id": "_YWqQLHmDDiX",
        "outputId": "23ad8d5f-1e0d-4a4d-8d5b-5b077c7833c3"
      },
      "execution_count": 28,
      "outputs": [
        {
          "output_type": "execute_result",
          "data": {
            "text/plain": [
              "((120, 4), (120,), (30, 4), (30,))"
            ]
          },
          "metadata": {},
          "execution_count": 28
        }
      ]
    },
    {
      "cell_type": "code",
      "source": [
        "lda = LDA(n_components=2)\n",
        "X_train_lda = lda.fit_transform(X_train, y_train)\n",
        "X_test_lda= lda.transform(X_test)"
      ],
      "metadata": {
        "id": "klms8Hsi-xAO"
      },
      "execution_count": 29,
      "outputs": []
    },
    {
      "cell_type": "code",
      "source": [
        "def linear_kernel( x1, x2):\n",
        "    return np.dot(x1, x2)\n",
        "\n",
        "def polynomial_kernel( x, y, C=1.0, d=3):\n",
        "    return (np.dot(x, y) + C) ** d\n",
        "\n",
        "def gaussian_kernel( x, y, gamma=0.5):\n",
        "    return np.exp(-gamma*np.linalg.norm(x - y) ** 2)\n",
        "\n",
        "def sigmoid_kernel( x, y, alpha=1, C=0.01):\n",
        "    a= alpha * np.dot(x, y) + C\n",
        "    return np.tanh(a)\n",
        "\n",
        "def SVM1(X, X_t, y, C, kernel_type, poly_params=(1, 4), RBF_params=0.5, sigmoid_params=(1, 0.01)):\n",
        "    kernel_and_params = (kernel_type, poly_params, RBF_params, sigmoid_params, C)\n",
        "    n_samples, n_features = X.shape\n",
        "    # Compute the Gram matrix\n",
        "    K = np.zeros((n_samples, n_samples))\n",
        "    if kernel_type == 'linear':\n",
        "        for i in range(n_samples):\n",
        "            for j in range(n_samples):\n",
        "                K[i, j] = linear_kernel(X[i], X[j])\n",
        "    elif kernel_type == 'polynomial':\n",
        "        for i in range(n_samples):\n",
        "            for j in range(n_samples):\n",
        "                K[i, j] = polynomial_kernel(X[i], X[j], poly_params[0], poly_params[1])\n",
        "    elif kernel_type == 'RBF':\n",
        "        for i in range(n_samples):\n",
        "            for j in range(n_samples):\n",
        "                K[i, j] = gaussian_kernel(X[i], X[j], RBF_params)\n",
        "    elif kernel_type == 'sigmoid':\n",
        "        for i in range(n_samples):\n",
        "            for j in range(n_samples):\n",
        "                K[i, j] = sigmoid_kernel(X[i], X[j], sigmoid_params[0], sigmoid_params[1])\n",
        "    else:\n",
        "        raise ValueError(\"Invalid kernel type\")\n",
        "\n",
        "    # construct P, q, A, b, G, h matrices for CVXOPT\n",
        "    P = cvxopt.matrix(np.outer(y, y) * K)\n",
        "    q = cvxopt.matrix(np.ones(n_samples) * -1)\n",
        "    A = cvxopt.matrix(y, (1, n_samples))\n",
        "    b = cvxopt.matrix(0.0)\n",
        "    G = cvxopt.matrix(np.vstack((np.diag(np.ones(n_samples) * -1), np.identity(n_samples))))\n",
        "    h = cvxopt.matrix(np.hstack((np.zeros(n_samples), np.ones(n_samples) * C)))\n",
        "    # solve QP problem\n",
        "    cvxopt.solvers.options['show_progress'] = False\n",
        "    solution = cvxopt.solvers.qp(P, q, G, h, A, b)\n",
        "    # Lagrange multipliers\n",
        "    a = np.ravel(solution['x'])\n",
        "    # Support vectors have non-zero Lagrange multipliers\n",
        "    sv = a > 1e-5  # some small threshold\n",
        "\n",
        "    # Support vectors have non-zero Lagrange multipliers\n",
        "    ind = np.arange(len(a))[sv]\n",
        "    a = a[sv]\n",
        "    sv_x = X[sv]\n",
        "    sv_y = y[sv]\n",
        "    numbers_of_sv = len(sv_y)\n",
        "\n",
        "    # Bias (For linear it is the intercept):\n",
        "    bias = 0\n",
        "    if len(a) > 0:\n",
        "        for n in range(len(a)):\n",
        "            # For all support vectors:\n",
        "            bias += sv_y[n]\n",
        "            bias -= np.sum(a * sv_y * K[ind[n], sv])\n",
        "        bias = bias / len(a)\n",
        "    else:\n",
        "        print(\"No support vectors found\")\n",
        "        bias = 0\n",
        "\n",
        "    # Weight vector\n",
        "    if kernel_type == 'linear':\n",
        "        w = np.zeros(n_features)\n",
        "        for n in range(len(a)):\n",
        "            w += a[n] * sv_y[n] * sv_x[n]\n",
        "    else:\n",
        "        w = None\n",
        "\n",
        "    y_pred = 0\n",
        "    # Create the decision boundary for the plots. Calculates the hypothesis.\n",
        "    if w is not None:\n",
        "        y_pred = np.sign(np.dot(X_t, w) + bias)\n",
        "    else:\n",
        "        y_predict = np.zeros(len(X_t))\n",
        "        for i in range(len(X_t)):\n",
        "            s = 0\n",
        "            for a1, sv_y1, sv1 in zip(a, sv_y, sv_x):\n",
        "                # a : Lagrange multipliers, sv : support vectors.\n",
        "                # Hypothesis: sign(sum^S a * y * kernel + b)\n",
        "                if kernel_type == 'linear':\n",
        "                    s += a1 * sv_y1 * linear_kernel(X_t[i], sv1)\n",
        "                if kernel_type == 'RBF':\n",
        "                    s += a1 * sv_y1 * gaussian_kernel(X_t[i], sv1, RBF_params)   # Kernel trick.\n",
        "                if kernel_type == 'polynomial':\n",
        "                    s += a1 * sv_y1 * polynomial_kernel(X_t[i], sv1, poly_params[0], poly_params[1])\n",
        "                if kernel_type == 'sigmoid':\n",
        "                    s += a1 * sv_y1 * sigmoid_kernel(X_t[i], sv1, sigmoid_params[0], sigmoid_params[1])\n",
        "            y_predict[i] = s\n",
        "        y_pred = np.sign(y_predict + bias)\n",
        "\n",
        "    return w, bias, solution, a, sv_x, sv_y, y_pred, kernel_and_params\n",
        "\n",
        "def multiclass_svm(X,X_t, y, C, kernel_type, poly_params=(1, 4), RBF_params=0.5, sigmoid_params=(1, 0.01)):\n",
        "\n",
        "    # Step 1: Identify unique class labels\n",
        "    class_labels = list(set(y))\n",
        "\n",
        "    # Step 2: Initialize classifiers dictionary\n",
        "    classifiers = {}\n",
        "    w_catch={} #catching w, b only for plot part\n",
        "    b_catch={}\n",
        "    a_catch={}\n",
        "    sv_x_catch={}\n",
        "    sv_y_catch={}\n",
        "    # Step 3: Train binary SVM models for each required class combination\n",
        "    for i,class_label in enumerate(class_labels):\n",
        "        # Create binary labels for current class vs. all others\n",
        "        binary_y = np.where(y == class_label, 1.0, -1.0)\n",
        "        # Train SVM classifier for binary classification\n",
        "        w, bias, _,a, sv_x, sv_y,prediction, kernel_and_params=SVM1(X,X_t, binary_y, C,kernel_type,poly_params, RBF_params, sigmoid_params)\n",
        "        classifiers[class_label] = prediction\n",
        "        w_catch[class_label]=w\n",
        "        b_catch[class_label]=bias\n",
        "        a_catch[class_label]=a\n",
        "        sv_x_catch[class_label]=sv_x\n",
        "        sv_y_catch[class_label]=sv_y\n",
        "\n",
        "    def decision_function(X_t):\n",
        "        decision_scores = np.zeros((X_t.shape[0], len(class_labels)))\n",
        "        for i, label in enumerate(class_labels):\n",
        "            decision_scores[:, i] = classifiers[label]\n",
        "        return np.argmax(decision_scores, axis=1),kernel_and_params,w_catch, b_catch,classifiers\n",
        "    return decision_function(X_t)\n",
        "\n",
        "def visualize_multiclass_classification(X_train, y_train1, kernel_type, trainset, classifiers, class_labels, w_stack, b_stack,kernel_and_params,degrees):\n",
        "    plt.figure(figsize=(8, 6))\n",
        "    (_,poly_params, RBF_params, sigmoid_params,C) = kernel_and_params\n",
        "    # Plotting data points for each class\n",
        "    for i, target_name in enumerate(class_labels):\n",
        "        plt.scatter(X_train[y_train1 == i, 0], X_train[y_train1 == i, 1], label=target_name)\n",
        "\n",
        "    if kernel_type == 'linear':\n",
        "\n",
        "        h = .02  # step size in the mesh\n",
        "        x_min, x_max = X_train[:, 0].min() - 1, X_train[:, 0].max() + 1\n",
        "        y_min, y_max = X_train[:, 1].min() - 1, X_train[:, 1].max() + 1\n",
        "        k=np.arange(x_min, x_max, h)\n",
        "        xx, yy = np.meshgrid(np.arange(x_min, x_max, h), np.arange(y_min, y_max, h))\n",
        "        x_test = np.c_[xx.ravel(), yy.ravel()]\n",
        "        model=multiclass_svm(x_train,x_test, y_train, C,kernel_type, poly_params, RBF_params, sigmoid_params)\n",
        "        pred,_,_,_,_=model\n",
        "\n",
        "        Z = pred.reshape(xx.shape)\n",
        "        plt.contour(xx, yy, Z, cmap=plt.cm.Paired, alpha=0.8)\n",
        "\n",
        "    else:\n",
        "        h = .02  # step size in the mesh\n",
        "        x_min, x_max = X_train[:, 0].min() - 1, X_train[:, 0].max() + 1\n",
        "        y_min, y_max = X_train[:, 1].min() - 1, X_train[:, 1].max() + 1\n",
        "        k=np.arange(x_min, x_max, h)\n",
        "        xx, yy = np.meshgrid(np.arange(x_min, x_max, h), np.arange(y_min, y_max, h))\n",
        "        x_test = np.c_[xx.ravel(), yy.ravel()]\n",
        "        model=multiclass_svm(x_train,x_test, y_train, C,kernel_type, poly_params, RBF_params, sigmoid_params)\n",
        "        pred,_,_,_,_=model\n",
        "\n",
        "        Z = pred.reshape(xx.shape)\n",
        "        plt.contour(xx, yy, Z, cmap=plt.cm.Paired, alpha=0.8)\n",
        "\n",
        "\n",
        "    if trainset:\n",
        "        plt.title(f'Data Points on Train Set {degrees}')\n",
        "    else:\n",
        "        plt.title(f'Data Points on Test Set {degrees}')\n",
        "\n",
        "    plt.xlabel('LDA Component 1')\n",
        "    plt.ylabel('LDA Component 2')\n",
        "    plt.legend()\n",
        "    plt.xlim(np.min(X_train[:, 0]) - 1, np.max(X_train[:, 0]) + 1)\n",
        "    plt.ylim(np.min(X_train[:, 1]) - 1, np.max(X_train[:, 1]) + 1)\n"
      ],
      "metadata": {
        "id": "AIj-cRDMDEvO"
      },
      "execution_count": 43,
      "outputs": []
    },
    {
      "cell_type": "code",
      "source": [
        "def calculate_metrics_and_plot(y_true, y_pred,degrees , labels=None):\n",
        "    # Calculate confusion matrix\n",
        "    cm = confusion_matrix(y_true, y_pred, labels=labels)\n",
        "\n",
        "    # Calculate precision, recall, and F1-score\n",
        "    precision = precision_score(y_true, y_pred, average=None, labels=labels)\n",
        "    recall = recall_score(y_true, y_pred, average=None, labels=labels)\n",
        "    f1 = f1_score(y_true, y_pred, average=None, labels=labels)\n",
        "\n",
        "    # Calculate accuracy\n",
        "    accuracy = np.sum(np.diag(cm)) / np.sum(cm)\n",
        "\n",
        "    # Print precision, recall, F1-score, and accuracy\n",
        "    for i in range(len(labels)):\n",
        "        print(f\"Class {labels[i]} - Precision: {precision[i]:.4f}, Recall: {recall[i]:.4f}, F1-score: {f1[i]:.4f}\")\n",
        "\n",
        "    print(f\"Accuracy: {accuracy:.4f}\")\n",
        "\n",
        "    # Set custom color map and font size\n",
        "    sns.set(font_scale=1.2)\n",
        "    sns.set_style(\"whitegrid\")\n",
        "\n",
        "    # Plot the confusion matrix as a heatmap\n",
        "    plt.figure(figsize=(8, 6))\n",
        "    heatmap = sns.heatmap(cm, annot=True, fmt='d', cmap='BuGn', xticklabels=labels, yticklabels=labels, annot_kws={\"size\": 14})\n",
        "\n",
        "    # Set the title font\n",
        "    heatmap.set_title(f'Confusion Matrix {degrees}', fontdict={'fontsize': 16, 'family': 'serif'})\n",
        "\n",
        "    plt.xlabel('Predicted')\n",
        "    plt.ylabel('True')\n",
        "\n",
        "    return accuracy\n"
      ],
      "metadata": {
        "id": "-tgJoOcFD_If"
      },
      "execution_count": 44,
      "outputs": []
    },
    {
      "cell_type": "code",
      "source": [
        "# Define the folder name\n",
        "folder_name = \"LDA\"\n",
        "\n",
        "# Check if the folder already exists, and create it if not\n",
        "if not os.path.exists(folder_name):\n",
        "    os.makedirs(folder_name)\n",
        "\n",
        "# Commented out IPython magic to ensure Python compatibility.\n",
        "%cd LDA"
      ],
      "metadata": {
        "id": "pAbZ5yCqlPcG",
        "colab": {
          "base_uri": "https://localhost:8080/"
        },
        "outputId": "08812e12-7612-4692-b591-2e394bca0855"
      },
      "execution_count": 45,
      "outputs": [
        {
          "output_type": "stream",
          "name": "stdout",
          "text": [
            "/content/LDA\n"
          ]
        }
      ]
    },
    {
      "cell_type": "code",
      "source": [
        "degrees = range(1, 8)\n",
        "acc = []\n",
        "images_train = []\n",
        "images_test = []\n",
        "images_conf = []\n",
        "# Train SVM with polynomial kernels of degree 1 to 10\n",
        "for degree in degrees:\n",
        "    #*****here is the callable function *****--------------------------------------------------------------\n",
        "    # Split the data into training and test sets\n",
        "    x_train = X_train_lda\n",
        "    x_test = X_test_lda\n",
        "\n",
        "    model=multiclass_svm(x_train,x_test, y_train, degree,'polynomial', poly_params=(1, degree), RBF_params=0.5, sigmoid_params=(1, 0.01))\n",
        "    pred, kernel_and_params,w_catch, b_catch, classifiers=model\n",
        "\n",
        "    #*****here is the callable function *****--------------------------------------------------------------\n",
        "    class_0 = 0\n",
        "    class_1 = 1\n",
        "    class_2 = 2\n",
        "\n",
        "    plt.figure()\n",
        "    visualize_multiclass_classification(X_train_lda, y_train, kernel_and_params[0], True, classifiers, iris.target_names[class_0:class_2+2], w_catch, b_catch, kernel_and_params, degree)\n",
        "    filename1 = f'svm_degree_{degree}_train_support_vector.png'\n",
        "    plt.savefig(filename1)\n",
        "    images_train.append(imageio.imread(filename1))\n",
        "    plt.close()\n",
        "\n",
        "    plt.figure()\n",
        "    visualize_multiclass_classification(X_test_lda, y_test, kernel_and_params[0], False, classifiers, iris.target_names[class_0:class_2+2], w_catch, b_catch, kernel_and_params, degree)\n",
        "    filename2 = f'svm_degree_{degree}_test_support_vector.png'\n",
        "    plt.savefig(filename2)\n",
        "    images_test.append(imageio.imread(filename2))\n",
        "    plt.close()\n",
        "\n",
        "    print(iris.target_names[class_0:class_2+2])\n",
        "\n",
        "    # Evaluate the model on the training set\n",
        "    if __name__ == \"__main__\":\n",
        "        plt.figure()\n",
        "        y_true = y_test\n",
        "        y_pred = pred\n",
        "        print(f\"Degree: {degree}\\n\")\n",
        "        acc.append(calculate_metrics_and_plot(y_true, y_pred, degree, labels=[0, 1, 2]))\n",
        "        filename3 = f'svm_degree_{degree}_Confusion_Matrix.png'\n",
        "        plt.savefig(filename3)\n",
        "        images_conf.append(imageio.imread(filename3))\n",
        "        plt.close()\n",
        "\n",
        "# Path to save the GIF\n",
        "gif_path_train = './svm_poly_degrees_train_support_vector_LDA.gif'\n",
        "imageio.mimsave(gif_path_train, images_train, duration=10)\n",
        "# Display the path to the GIF\n",
        "print(f\"GIF saved as {gif_path_train}\")\n",
        "\n",
        "# Path to save the GIF\n",
        "gif_path_test = './svm_poly_degrees_test_support_vector_LDA.gif'\n",
        "imageio.mimsave(gif_path_test, images_test, duration=10)\n",
        "# Display the path to the GIF\n",
        "print(f\"GIF saved as {gif_path_test}\")\n",
        "\n",
        "# Path to save the GIF\n",
        "gif_path_conf = './svm_poly_degrees_Confusion_Matrix_LDA.gif'\n",
        "imageio.mimsave(gif_path_conf, images_conf, duration=10)\n",
        "# Display the path to the GIF\n",
        "print(f\"GIF saved as {gif_path_conf}\")"
      ],
      "metadata": {
        "colab": {
          "base_uri": "https://localhost:8080/",
          "height": 1000
        },
        "id": "KpMJgACalFvY",
        "outputId": "a99a5b74-3d0d-4fd5-da48-d6775481daac"
      },
      "execution_count": 46,
      "outputs": [
        {
          "output_type": "stream",
          "name": "stderr",
          "text": [
            "<ipython-input-46-5ce8291e6d62>:25: DeprecationWarning: Starting with ImageIO v3 the behavior of this function will switch to that of iio.v3.imread. To keep the current behavior (and make this warning disappear) use `import imageio.v2 as imageio` or call `imageio.v2.imread` directly.\n",
            "  images_train.append(imageio.imread(filename1))\n",
            "<ipython-input-46-5ce8291e6d62>:32: DeprecationWarning: Starting with ImageIO v3 the behavior of this function will switch to that of iio.v3.imread. To keep the current behavior (and make this warning disappear) use `import imageio.v2 as imageio` or call `imageio.v2.imread` directly.\n",
            "  images_test.append(imageio.imread(filename2))\n"
          ]
        },
        {
          "output_type": "stream",
          "name": "stdout",
          "text": [
            "['setosa' 'versicolor' 'virginica']\n",
            "Degree: 1\n",
            "\n",
            "Class 0 - Precision: 0.7778, Recall: 1.0000, F1-score: 0.8750\n",
            "Class 1 - Precision: 1.0000, Recall: 0.6000, F1-score: 0.7500\n",
            "Class 2 - Precision: 1.0000, Recall: 1.0000, F1-score: 1.0000\n",
            "Accuracy: 0.8667\n"
          ]
        },
        {
          "output_type": "stream",
          "name": "stderr",
          "text": [
            "<ipython-input-46-5ce8291e6d62>:46: DeprecationWarning: Starting with ImageIO v3 the behavior of this function will switch to that of iio.v3.imread. To keep the current behavior (and make this warning disappear) use `import imageio.v2 as imageio` or call `imageio.v2.imread` directly.\n",
            "  images_conf.append(imageio.imread(filename3))\n",
            "<ipython-input-46-5ce8291e6d62>:25: DeprecationWarning: Starting with ImageIO v3 the behavior of this function will switch to that of iio.v3.imread. To keep the current behavior (and make this warning disappear) use `import imageio.v2 as imageio` or call `imageio.v2.imread` directly.\n",
            "  images_train.append(imageio.imread(filename1))\n",
            "<ipython-input-46-5ce8291e6d62>:32: DeprecationWarning: Starting with ImageIO v3 the behavior of this function will switch to that of iio.v3.imread. To keep the current behavior (and make this warning disappear) use `import imageio.v2 as imageio` or call `imageio.v2.imread` directly.\n",
            "  images_test.append(imageio.imread(filename2))\n"
          ]
        },
        {
          "output_type": "stream",
          "name": "stdout",
          "text": [
            "['setosa' 'versicolor' 'virginica']\n",
            "Degree: 2\n",
            "\n",
            "Class 0 - Precision: 1.0000, Recall: 1.0000, F1-score: 1.0000\n",
            "Class 1 - Precision: 0.9091, Recall: 1.0000, F1-score: 0.9524\n",
            "Class 2 - Precision: 1.0000, Recall: 0.8333, F1-score: 0.9091\n",
            "Accuracy: 0.9667\n"
          ]
        },
        {
          "output_type": "stream",
          "name": "stderr",
          "text": [
            "<ipython-input-46-5ce8291e6d62>:46: DeprecationWarning: Starting with ImageIO v3 the behavior of this function will switch to that of iio.v3.imread. To keep the current behavior (and make this warning disappear) use `import imageio.v2 as imageio` or call `imageio.v2.imread` directly.\n",
            "  images_conf.append(imageio.imread(filename3))\n",
            "<ipython-input-46-5ce8291e6d62>:25: DeprecationWarning: Starting with ImageIO v3 the behavior of this function will switch to that of iio.v3.imread. To keep the current behavior (and make this warning disappear) use `import imageio.v2 as imageio` or call `imageio.v2.imread` directly.\n",
            "  images_train.append(imageio.imread(filename1))\n",
            "<ipython-input-46-5ce8291e6d62>:32: DeprecationWarning: Starting with ImageIO v3 the behavior of this function will switch to that of iio.v3.imread. To keep the current behavior (and make this warning disappear) use `import imageio.v2 as imageio` or call `imageio.v2.imread` directly.\n",
            "  images_test.append(imageio.imread(filename2))\n"
          ]
        },
        {
          "output_type": "stream",
          "name": "stdout",
          "text": [
            "['setosa' 'versicolor' 'virginica']\n",
            "Degree: 3\n",
            "\n",
            "Class 0 - Precision: 1.0000, Recall: 1.0000, F1-score: 1.0000\n",
            "Class 1 - Precision: 1.0000, Recall: 0.9000, F1-score: 0.9474\n",
            "Class 2 - Precision: 0.8571, Recall: 1.0000, F1-score: 0.9231\n",
            "Accuracy: 0.9667\n"
          ]
        },
        {
          "output_type": "stream",
          "name": "stderr",
          "text": [
            "<ipython-input-46-5ce8291e6d62>:46: DeprecationWarning: Starting with ImageIO v3 the behavior of this function will switch to that of iio.v3.imread. To keep the current behavior (and make this warning disappear) use `import imageio.v2 as imageio` or call `imageio.v2.imread` directly.\n",
            "  images_conf.append(imageio.imread(filename3))\n"
          ]
        },
        {
          "output_type": "stream",
          "name": "stdout",
          "text": [
            "No support vectors found\n",
            "No support vectors found\n"
          ]
        },
        {
          "output_type": "stream",
          "name": "stderr",
          "text": [
            "<ipython-input-46-5ce8291e6d62>:25: DeprecationWarning: Starting with ImageIO v3 the behavior of this function will switch to that of iio.v3.imread. To keep the current behavior (and make this warning disappear) use `import imageio.v2 as imageio` or call `imageio.v2.imread` directly.\n",
            "  images_train.append(imageio.imread(filename1))\n"
          ]
        },
        {
          "output_type": "stream",
          "name": "stdout",
          "text": [
            "No support vectors found\n"
          ]
        },
        {
          "output_type": "stream",
          "name": "stderr",
          "text": [
            "<ipython-input-46-5ce8291e6d62>:32: DeprecationWarning: Starting with ImageIO v3 the behavior of this function will switch to that of iio.v3.imread. To keep the current behavior (and make this warning disappear) use `import imageio.v2 as imageio` or call `imageio.v2.imread` directly.\n",
            "  images_test.append(imageio.imread(filename2))\n"
          ]
        },
        {
          "output_type": "stream",
          "name": "stdout",
          "text": [
            "['setosa' 'versicolor' 'virginica']\n",
            "Degree: 4\n",
            "\n",
            "Class 0 - Precision: 0.9333, Recall: 1.0000, F1-score: 0.9655\n",
            "Class 1 - Precision: 1.0000, Recall: 0.9000, F1-score: 0.9474\n",
            "Class 2 - Precision: 1.0000, Recall: 1.0000, F1-score: 1.0000\n",
            "Accuracy: 0.9667\n"
          ]
        },
        {
          "output_type": "stream",
          "name": "stderr",
          "text": [
            "<ipython-input-46-5ce8291e6d62>:46: DeprecationWarning: Starting with ImageIO v3 the behavior of this function will switch to that of iio.v3.imread. To keep the current behavior (and make this warning disappear) use `import imageio.v2 as imageio` or call `imageio.v2.imread` directly.\n",
            "  images_conf.append(imageio.imread(filename3))\n"
          ]
        },
        {
          "output_type": "stream",
          "name": "stdout",
          "text": [
            "No support vectors found\n",
            "No support vectors found\n"
          ]
        },
        {
          "output_type": "stream",
          "name": "stderr",
          "text": [
            "<ipython-input-46-5ce8291e6d62>:25: DeprecationWarning: Starting with ImageIO v3 the behavior of this function will switch to that of iio.v3.imread. To keep the current behavior (and make this warning disappear) use `import imageio.v2 as imageio` or call `imageio.v2.imread` directly.\n",
            "  images_train.append(imageio.imread(filename1))\n"
          ]
        },
        {
          "output_type": "stream",
          "name": "stdout",
          "text": [
            "No support vectors found\n"
          ]
        },
        {
          "output_type": "stream",
          "name": "stderr",
          "text": [
            "<ipython-input-46-5ce8291e6d62>:32: DeprecationWarning: Starting with ImageIO v3 the behavior of this function will switch to that of iio.v3.imread. To keep the current behavior (and make this warning disappear) use `import imageio.v2 as imageio` or call `imageio.v2.imread` directly.\n",
            "  images_test.append(imageio.imread(filename2))\n"
          ]
        },
        {
          "output_type": "stream",
          "name": "stdout",
          "text": [
            "['setosa' 'versicolor' 'virginica']\n",
            "Degree: 5\n",
            "\n",
            "Class 0 - Precision: 0.9231, Recall: 0.8571, F1-score: 0.8889\n",
            "Class 1 - Precision: 0.8000, Recall: 0.8000, F1-score: 0.8000\n",
            "Class 2 - Precision: 0.8571, Recall: 1.0000, F1-score: 0.9231\n",
            "Accuracy: 0.8667\n"
          ]
        },
        {
          "output_type": "stream",
          "name": "stderr",
          "text": [
            "<ipython-input-46-5ce8291e6d62>:46: DeprecationWarning: Starting with ImageIO v3 the behavior of this function will switch to that of iio.v3.imread. To keep the current behavior (and make this warning disappear) use `import imageio.v2 as imageio` or call `imageio.v2.imread` directly.\n",
            "  images_conf.append(imageio.imread(filename3))\n"
          ]
        },
        {
          "output_type": "stream",
          "name": "stdout",
          "text": [
            "No support vectors found\n",
            "No support vectors found\n"
          ]
        },
        {
          "output_type": "stream",
          "name": "stderr",
          "text": [
            "<ipython-input-46-5ce8291e6d62>:25: DeprecationWarning: Starting with ImageIO v3 the behavior of this function will switch to that of iio.v3.imread. To keep the current behavior (and make this warning disappear) use `import imageio.v2 as imageio` or call `imageio.v2.imread` directly.\n",
            "  images_train.append(imageio.imread(filename1))\n"
          ]
        },
        {
          "output_type": "stream",
          "name": "stdout",
          "text": [
            "No support vectors found\n"
          ]
        },
        {
          "output_type": "stream",
          "name": "stderr",
          "text": [
            "<ipython-input-46-5ce8291e6d62>:32: DeprecationWarning: Starting with ImageIO v3 the behavior of this function will switch to that of iio.v3.imread. To keep the current behavior (and make this warning disappear) use `import imageio.v2 as imageio` or call `imageio.v2.imread` directly.\n",
            "  images_test.append(imageio.imread(filename2))\n"
          ]
        },
        {
          "output_type": "stream",
          "name": "stdout",
          "text": [
            "['setosa' 'versicolor' 'virginica']\n",
            "Degree: 6\n",
            "\n",
            "Class 0 - Precision: 0.0000, Recall: 0.0000, F1-score: 0.0000\n",
            "Class 1 - Precision: 1.0000, Recall: 0.9000, F1-score: 0.9474\n",
            "Class 2 - Precision: 0.2222, Recall: 0.6667, F1-score: 0.3333\n",
            "Accuracy: 0.4333\n"
          ]
        },
        {
          "output_type": "stream",
          "name": "stderr",
          "text": [
            "<ipython-input-46-5ce8291e6d62>:46: DeprecationWarning: Starting with ImageIO v3 the behavior of this function will switch to that of iio.v3.imread. To keep the current behavior (and make this warning disappear) use `import imageio.v2 as imageio` or call `imageio.v2.imread` directly.\n",
            "  images_conf.append(imageio.imread(filename3))\n"
          ]
        },
        {
          "output_type": "stream",
          "name": "stdout",
          "text": [
            "No support vectors found\n",
            "No support vectors found\n"
          ]
        },
        {
          "output_type": "stream",
          "name": "stderr",
          "text": [
            "<ipython-input-46-5ce8291e6d62>:25: DeprecationWarning: Starting with ImageIO v3 the behavior of this function will switch to that of iio.v3.imread. To keep the current behavior (and make this warning disappear) use `import imageio.v2 as imageio` or call `imageio.v2.imread` directly.\n",
            "  images_train.append(imageio.imread(filename1))\n",
            "<ipython-input-43-673adbeb2a2f>:137: RuntimeWarning: More than 20 figures have been opened. Figures created through the pyplot interface (`matplotlib.pyplot.figure`) are retained until explicitly closed and may consume too much memory. (To control this warning, see the rcParam `figure.max_open_warning`). Consider using `matplotlib.pyplot.close()`.\n",
            "  plt.figure(figsize=(8, 6))\n"
          ]
        },
        {
          "output_type": "stream",
          "name": "stdout",
          "text": [
            "No support vectors found\n"
          ]
        },
        {
          "output_type": "stream",
          "name": "stderr",
          "text": [
            "<ipython-input-46-5ce8291e6d62>:32: DeprecationWarning: Starting with ImageIO v3 the behavior of this function will switch to that of iio.v3.imread. To keep the current behavior (and make this warning disappear) use `import imageio.v2 as imageio` or call `imageio.v2.imread` directly.\n",
            "  images_test.append(imageio.imread(filename2))\n",
            "<ipython-input-46-5ce8291e6d62>:39: RuntimeWarning: More than 20 figures have been opened. Figures created through the pyplot interface (`matplotlib.pyplot.figure`) are retained until explicitly closed and may consume too much memory. (To control this warning, see the rcParam `figure.max_open_warning`). Consider using `matplotlib.pyplot.close()`.\n",
            "  plt.figure()\n"
          ]
        },
        {
          "output_type": "stream",
          "name": "stdout",
          "text": [
            "['setosa' 'versicolor' 'virginica']\n",
            "Degree: 7\n",
            "\n",
            "Class 0 - Precision: 0.0000, Recall: 0.0000, F1-score: 0.0000\n",
            "Class 1 - Precision: 0.0000, Recall: 0.0000, F1-score: 0.0000\n",
            "Class 2 - Precision: 0.1000, Recall: 0.3333, F1-score: 0.1538\n",
            "Accuracy: 0.0667\n"
          ]
        },
        {
          "output_type": "stream",
          "name": "stderr",
          "text": [
            "<ipython-input-46-5ce8291e6d62>:46: DeprecationWarning: Starting with ImageIO v3 the behavior of this function will switch to that of iio.v3.imread. To keep the current behavior (and make this warning disappear) use `import imageio.v2 as imageio` or call `imageio.v2.imread` directly.\n",
            "  images_conf.append(imageio.imread(filename3))\n"
          ]
        },
        {
          "output_type": "stream",
          "name": "stdout",
          "text": [
            "GIF saved as ./svm_poly_degrees_train_support_vector_LDA.gif\n",
            "GIF saved as ./svm_poly_degrees_test_support_vector_LDA.gif\n",
            "GIF saved as ./svm_poly_degrees_Confusion_Matrix_LDA.gif\n"
          ]
        },
        {
          "output_type": "display_data",
          "data": {
            "text/plain": [
              "<Figure size 640x480 with 0 Axes>"
            ]
          },
          "metadata": {}
        },
        {
          "output_type": "display_data",
          "data": {
            "text/plain": [
              "<Figure size 640x480 with 0 Axes>"
            ]
          },
          "metadata": {}
        },
        {
          "output_type": "display_data",
          "data": {
            "text/plain": [
              "<Figure size 640x480 with 0 Axes>"
            ]
          },
          "metadata": {}
        },
        {
          "output_type": "display_data",
          "data": {
            "text/plain": [
              "<Figure size 640x480 with 0 Axes>"
            ]
          },
          "metadata": {}
        },
        {
          "output_type": "display_data",
          "data": {
            "text/plain": [
              "<Figure size 640x480 with 0 Axes>"
            ]
          },
          "metadata": {}
        },
        {
          "output_type": "display_data",
          "data": {
            "text/plain": [
              "<Figure size 640x480 with 0 Axes>"
            ]
          },
          "metadata": {}
        },
        {
          "output_type": "display_data",
          "data": {
            "text/plain": [
              "<Figure size 640x480 with 0 Axes>"
            ]
          },
          "metadata": {}
        },
        {
          "output_type": "display_data",
          "data": {
            "text/plain": [
              "<Figure size 640x480 with 0 Axes>"
            ]
          },
          "metadata": {}
        },
        {
          "output_type": "display_data",
          "data": {
            "text/plain": [
              "<Figure size 640x480 with 0 Axes>"
            ]
          },
          "metadata": {}
        },
        {
          "output_type": "display_data",
          "data": {
            "text/plain": [
              "<Figure size 640x480 with 0 Axes>"
            ]
          },
          "metadata": {}
        },
        {
          "output_type": "display_data",
          "data": {
            "text/plain": [
              "<Figure size 640x480 with 0 Axes>"
            ]
          },
          "metadata": {}
        },
        {
          "output_type": "display_data",
          "data": {
            "text/plain": [
              "<Figure size 640x480 with 0 Axes>"
            ]
          },
          "metadata": {}
        },
        {
          "output_type": "display_data",
          "data": {
            "text/plain": [
              "<Figure size 640x480 with 0 Axes>"
            ]
          },
          "metadata": {}
        },
        {
          "output_type": "display_data",
          "data": {
            "text/plain": [
              "<Figure size 640x480 with 0 Axes>"
            ]
          },
          "metadata": {}
        },
        {
          "output_type": "display_data",
          "data": {
            "text/plain": [
              "<Figure size 640x480 with 0 Axes>"
            ]
          },
          "metadata": {}
        },
        {
          "output_type": "display_data",
          "data": {
            "text/plain": [
              "<Figure size 640x480 with 0 Axes>"
            ]
          },
          "metadata": {}
        },
        {
          "output_type": "display_data",
          "data": {
            "text/plain": [
              "<Figure size 640x480 with 0 Axes>"
            ]
          },
          "metadata": {}
        },
        {
          "output_type": "display_data",
          "data": {
            "text/plain": [
              "<Figure size 640x480 with 0 Axes>"
            ]
          },
          "metadata": {}
        },
        {
          "output_type": "display_data",
          "data": {
            "text/plain": [
              "<Figure size 640x480 with 0 Axes>"
            ]
          },
          "metadata": {}
        },
        {
          "output_type": "display_data",
          "data": {
            "text/plain": [
              "<Figure size 640x480 with 0 Axes>"
            ]
          },
          "metadata": {}
        },
        {
          "output_type": "display_data",
          "data": {
            "text/plain": [
              "<Figure size 640x480 with 0 Axes>"
            ]
          },
          "metadata": {}
        }
      ]
    },
    {
      "cell_type": "code",
      "source": [
        "%cd .."
      ],
      "metadata": {
        "colab": {
          "base_uri": "https://localhost:8080/"
        },
        "id": "Rv59tnwV0o5W",
        "outputId": "6583014d-95b6-464d-e74e-f192d99b62c0"
      },
      "execution_count": 47,
      "outputs": [
        {
          "output_type": "stream",
          "name": "stdout",
          "text": [
            "/content\n"
          ]
        }
      ]
    },
    {
      "cell_type": "code",
      "source": [
        "for i in degrees:\n",
        "  # Plot the values against the custom indexes\n",
        "  plt.plot(i, acc[i-1], marker='o', color='k')\n",
        "\n",
        "plt.title('Accuracy of SVM with Polynomial Kernel for Different Degrees')\n",
        "plt.xlabel('Degree of Polynomial Kernel')\n",
        "plt.ylabel('Accuracy')\n",
        "plt.xticks(degrees)\n",
        "plt.grid(True)\n",
        "plt.grid(True)\n",
        "plt.show()"
      ],
      "metadata": {
        "colab": {
          "base_uri": "https://localhost:8080/",
          "height": 485
        },
        "id": "WrmONd5a0oPT",
        "outputId": "10f05bd1-eb64-41f8-f660-498204f263b2"
      },
      "execution_count": 48,
      "outputs": [
        {
          "output_type": "display_data",
          "data": {
            "text/plain": [
              "<Figure size 640x480 with 1 Axes>"
            ],
            "image/png": "[encoded data removed]"
          },
          "metadata": {}
        }
      ]
    },
    {
      "cell_type": "code",
      "source": [
        "def visualize_multiclass_classification(X_train, y_train1, kernel_type, trainset, classifiers, class_labels, w_stack, b_stack,kernel_and_params,degrees):\n",
        "    plt.figure(figsize=(8, 6))\n",
        "    (_,poly_params, RBF_params, sigmoid_params,C) = kernel_and_params\n",
        "    # Plotting data points for each class\n",
        "    for i, target_name in enumerate(class_labels):\n",
        "        plt.scatter(X_train[y_train1 == i, 0], X_train[y_train1 == i, 1], label=target_name)\n",
        "\n",
        "    if kernel_type == 'linear':\n",
        "\n",
        "        h = .02  # step size in the mesh\n",
        "        x_min, x_max = X_train[:, 0].min() - 1, X_train[:, 0].max() + 1\n",
        "        y_min, y_max = X_train[:, 1].min() - 1, X_train[:, 1].max() + 1\n",
        "        k=np.arange(x_min, x_max, h)\n",
        "        xx, yy = np.meshgrid(np.arange(x_min, x_max, h), np.arange(y_min, y_max, h))\n",
        "        x_test = np.c_[xx.ravel(), yy.ravel()]\n",
        "        model=multiclass_svm(x_train,x_test, y_train, C,kernel_type, poly_params, RBF_params, sigmoid_params)\n",
        "        pred,_,_,_,_=model\n",
        "\n",
        "        Z = pred.reshape(xx.shape)\n",
        "        plt.contour(xx, yy, Z, cmap=plt.cm.Paired, alpha=0.8)\n",
        "\n",
        "    else:\n",
        "        h = .02  # step size in the mesh\n",
        "        x_min, x_max = X_train[:, 0].min() - 1, X_train[:, 0].max() + 1\n",
        "        y_min, y_max = X_train[:, 1].min() - 1, X_train[:, 1].max() + 1\n",
        "        k=np.arange(x_min, x_max, h)\n",
        "        xx, yy = np.meshgrid(np.arange(x_min, x_max, h), np.arange(y_min, y_max, h))\n",
        "        x_test = np.c_[xx.ravel(), yy.ravel()]\n",
        "        model=multiclass_svm(x_train,x_test, y_train, C,kernel_type, poly_params, RBF_params, sigmoid_params)\n",
        "        pred,_,_,_,_=model\n",
        "\n",
        "        Z = pred.reshape(xx.shape)\n",
        "        plt.contour(xx, yy, Z, cmap=plt.cm.Paired, alpha=0.8)\n",
        "\n",
        "\n",
        "    if trainset:\n",
        "        plt.title(f'Data Points on Train Set {degrees}')\n",
        "    else:\n",
        "        plt.title(f'Data Points on Test Set {degrees}')\n",
        "\n",
        "    plt.xlabel('Principal Component 1')\n",
        "    plt.ylabel('Principal Component 2')\n",
        "    plt.legend()\n",
        "    plt.xlim(np.min(X_train[:, 0]) - 1, np.max(X_train[:, 0]) + 1)\n",
        "    plt.ylim(np.min(X_train[:, 1]) - 1, np.max(X_train[:, 1]) + 1)"
      ],
      "metadata": {
        "id": "15QPHImXFjiI"
      },
      "execution_count": 49,
      "outputs": []
    },
    {
      "cell_type": "code",
      "source": [
        "from sklearn.decomposition import PCA\n",
        "from sklearn.preprocessing import StandardScaler\n",
        "\n",
        "#scaling and centering the data\n",
        "sc = StandardScaler()\n",
        "X_train_scaled = sc.fit_transform(X_train)\n",
        "X_test_scaled = sc.transform(X_test)\n",
        "\n",
        "pca = PCA (n_components=2)\n",
        "X_train_pca = pca.fit_transform(X_train_scaled)\n",
        "X_test_pca = pca.transform(X_test_scaled)\n"
      ],
      "metadata": {
        "id": "lyieB83pFflL"
      },
      "execution_count": 50,
      "outputs": []
    },
    {
      "cell_type": "code",
      "source": [
        "# Define the folder name\n",
        "folder_name = \"PCA\"\n",
        "\n",
        "# Check if the folder already exists, and create it if not\n",
        "if not os.path.exists(folder_name):\n",
        "    os.makedirs(folder_name)\n",
        "\n",
        "# Commented out IPython magic to ensure Python compatibility.\n",
        "%cd PCA"
      ],
      "metadata": {
        "colab": {
          "base_uri": "https://localhost:8080/"
        },
        "id": "mGz7s91kFcp9",
        "outputId": "7acd02c3-c35f-45da-ce2a-41ee85668c01"
      },
      "execution_count": 51,
      "outputs": [
        {
          "output_type": "stream",
          "name": "stdout",
          "text": [
            "/content/PCA\n"
          ]
        }
      ]
    },
    {
      "cell_type": "code",
      "source": [
        "degrees = range(1, 11)\n",
        "acc = []\n",
        "images_train = []\n",
        "images_test = []\n",
        "images_conf = []\n",
        "# Train SVM with polynomial kernels of degree 1 to 10\n",
        "for degree in degrees:\n",
        "    #*****here is the callable function *****--------------------------------------------------------------\n",
        "    # Split the data into training and test sets\n",
        "    x_train = X_train_pca\n",
        "    x_test = X_test_pca\n",
        "\n",
        "    model=multiclass_svm(x_train,x_test, y_train, degree,'polynomial', poly_params=(1, degree), RBF_params=0.5, sigmoid_params=(1, 0.01))\n",
        "    pred, kernel_and_params,w_catch, b_catch, classifiers=model\n",
        "\n",
        "    #*****here is the callable function *****--------------------------------------------------------------\n",
        "    class_0 = 0\n",
        "    class_1 = 1\n",
        "    class_2 = 2\n",
        "\n",
        "    plt.figure()\n",
        "    visualize_multiclass_classification(X_train_pca, y_train, kernel_and_params[0], True, classifiers, iris.target_names[class_0:class_2+2], w_catch, b_catch, kernel_and_params, degree)\n",
        "    filename1 = f'svm_degree_{degree}_train_support_vector.png'\n",
        "    plt.savefig(filename1)\n",
        "    images_train.append(imageio.imread(filename1))\n",
        "    plt.close()\n",
        "\n",
        "    plt.figure()\n",
        "    visualize_multiclass_classification(X_test_pca, y_test, kernel_and_params[0], False, classifiers, iris.target_names[class_0:class_2+2], w_catch, b_catch, kernel_and_params, degree)\n",
        "    filename2 = f'svm_degree_{degree}_test_support_vector.png'\n",
        "    plt.savefig(filename2)\n",
        "    images_test.append(imageio.imread(filename2))\n",
        "    plt.close()\n",
        "\n",
        "    print(iris.target_names[class_0:class_2+2])\n",
        "\n",
        "    # Evaluate the model on the training set\n",
        "    if __name__ == \"__main__\":\n",
        "        plt.figure()\n",
        "        y_true = y_test\n",
        "        y_pred = pred\n",
        "        print(f\"Degree: {degree}\\n\")\n",
        "        acc.append(calculate_metrics_and_plot(y_true, y_pred, degree, labels=[0, 1, 2]))\n",
        "        filename3 = f'svm_degree_{degree}_Confusion_Matrix.png'\n",
        "        plt.savefig(filename3)\n",
        "        images_conf.append(imageio.imread(filename3))\n",
        "        plt.close()\n",
        "\n",
        "# Path to save the GIF\n",
        "gif_path_train = './svm_poly_degrees_train_support_vector_PCA.gif'\n",
        "imageio.mimsave(gif_path_train, images_train, duration=10)\n",
        "# Display the path to the GIF\n",
        "print(f\"GIF saved as {gif_path_train}\")\n",
        "\n",
        "# Path to save the GIF\n",
        "gif_path_test = './svm_poly_degrees_test_support_vector_PCA.gif'\n",
        "imageio.mimsave(gif_path_test, images_test, duration=10)\n",
        "# Display the path to the GIF\n",
        "print(f\"GIF saved as {gif_path_test}\")\n",
        "\n",
        "# Path to save the GIF\n",
        "gif_path_conf = './svm_poly_degrees_Confusion_Matrix_PCA.gif'\n",
        "imageio.mimsave(gif_path_conf, images_conf, duration=10)\n",
        "# Display the path to the GIF\n",
        "print(f\"GIF saved as {gif_path_conf}\")"
      ],
      "metadata": {
        "colab": {
          "base_uri": "https://localhost:8080/",
          "height": 1000
        },
        "id": "WVcQEfkBH1Xa",
        "outputId": "73f1d2d5-f743-48da-fc33-43ccf0710c15"
      },
      "execution_count": 52,
      "outputs": [
        {
          "output_type": "stream",
          "name": "stderr",
          "text": [
            "<ipython-input-52-3ecead7ea473>:25: DeprecationWarning: Starting with ImageIO v3 the behavior of this function will switch to that of iio.v3.imread. To keep the current behavior (and make this warning disappear) use `import imageio.v2 as imageio` or call `imageio.v2.imread` directly.\n",
            "  images_train.append(imageio.imread(filename1))\n",
            "<ipython-input-52-3ecead7ea473>:32: DeprecationWarning: Starting with ImageIO v3 the behavior of this function will switch to that of iio.v3.imread. To keep the current behavior (and make this warning disappear) use `import imageio.v2 as imageio` or call `imageio.v2.imread` directly.\n",
            "  images_test.append(imageio.imread(filename2))\n"
          ]
        },
        {
          "output_type": "stream",
          "name": "stdout",
          "text": [
            "['setosa' 'versicolor' 'virginica']\n",
            "Degree: 1\n",
            "\n",
            "Class 0 - Precision: 0.7778, Recall: 1.0000, F1-score: 0.8750\n",
            "Class 1 - Precision: 1.0000, Recall: 0.5000, F1-score: 0.6667\n",
            "Class 2 - Precision: 0.7143, Recall: 0.8333, F1-score: 0.7692\n",
            "Accuracy: 0.8000\n"
          ]
        },
        {
          "output_type": "stream",
          "name": "stderr",
          "text": [
            "<ipython-input-52-3ecead7ea473>:46: DeprecationWarning: Starting with ImageIO v3 the behavior of this function will switch to that of iio.v3.imread. To keep the current behavior (and make this warning disappear) use `import imageio.v2 as imageio` or call `imageio.v2.imread` directly.\n",
            "  images_conf.append(imageio.imread(filename3))\n",
            "<ipython-input-52-3ecead7ea473>:25: DeprecationWarning: Starting with ImageIO v3 the behavior of this function will switch to that of iio.v3.imread. To keep the current behavior (and make this warning disappear) use `import imageio.v2 as imageio` or call `imageio.v2.imread` directly.\n",
            "  images_train.append(imageio.imread(filename1))\n",
            "<ipython-input-52-3ecead7ea473>:32: DeprecationWarning: Starting with ImageIO v3 the behavior of this function will switch to that of iio.v3.imread. To keep the current behavior (and make this warning disappear) use `import imageio.v2 as imageio` or call `imageio.v2.imread` directly.\n",
            "  images_test.append(imageio.imread(filename2))\n"
          ]
        },
        {
          "output_type": "stream",
          "name": "stdout",
          "text": [
            "['setosa' 'versicolor' 'virginica']\n",
            "Degree: 2\n",
            "\n",
            "Class 0 - Precision: 1.0000, Recall: 1.0000, F1-score: 1.0000\n",
            "Class 1 - Precision: 0.8571, Recall: 0.6000, F1-score: 0.7059\n",
            "Class 2 - Precision: 0.5556, Recall: 0.8333, F1-score: 0.6667\n",
            "Accuracy: 0.8333\n"
          ]
        },
        {
          "output_type": "stream",
          "name": "stderr",
          "text": [
            "<ipython-input-52-3ecead7ea473>:46: DeprecationWarning: Starting with ImageIO v3 the behavior of this function will switch to that of iio.v3.imread. To keep the current behavior (and make this warning disappear) use `import imageio.v2 as imageio` or call `imageio.v2.imread` directly.\n",
            "  images_conf.append(imageio.imread(filename3))\n",
            "<ipython-input-52-3ecead7ea473>:25: DeprecationWarning: Starting with ImageIO v3 the behavior of this function will switch to that of iio.v3.imread. To keep the current behavior (and make this warning disappear) use `import imageio.v2 as imageio` or call `imageio.v2.imread` directly.\n",
            "  images_train.append(imageio.imread(filename1))\n",
            "<ipython-input-52-3ecead7ea473>:32: DeprecationWarning: Starting with ImageIO v3 the behavior of this function will switch to that of iio.v3.imread. To keep the current behavior (and make this warning disappear) use `import imageio.v2 as imageio` or call `imageio.v2.imread` directly.\n",
            "  images_test.append(imageio.imread(filename2))\n"
          ]
        },
        {
          "output_type": "stream",
          "name": "stdout",
          "text": [
            "['setosa' 'versicolor' 'virginica']\n",
            "Degree: 3\n",
            "\n",
            "Class 0 - Precision: 1.0000, Recall: 1.0000, F1-score: 1.0000\n",
            "Class 1 - Precision: 0.8571, Recall: 0.6000, F1-score: 0.7059\n",
            "Class 2 - Precision: 0.5556, Recall: 0.8333, F1-score: 0.6667\n",
            "Accuracy: 0.8333\n"
          ]
        },
        {
          "output_type": "stream",
          "name": "stderr",
          "text": [
            "<ipython-input-52-3ecead7ea473>:46: DeprecationWarning: Starting with ImageIO v3 the behavior of this function will switch to that of iio.v3.imread. To keep the current behavior (and make this warning disappear) use `import imageio.v2 as imageio` or call `imageio.v2.imread` directly.\n",
            "  images_conf.append(imageio.imread(filename3))\n",
            "<ipython-input-52-3ecead7ea473>:25: DeprecationWarning: Starting with ImageIO v3 the behavior of this function will switch to that of iio.v3.imread. To keep the current behavior (and make this warning disappear) use `import imageio.v2 as imageio` or call `imageio.v2.imread` directly.\n",
            "  images_train.append(imageio.imread(filename1))\n",
            "<ipython-input-52-3ecead7ea473>:32: DeprecationWarning: Starting with ImageIO v3 the behavior of this function will switch to that of iio.v3.imread. To keep the current behavior (and make this warning disappear) use `import imageio.v2 as imageio` or call `imageio.v2.imread` directly.\n",
            "  images_test.append(imageio.imread(filename2))\n"
          ]
        },
        {
          "output_type": "stream",
          "name": "stdout",
          "text": [
            "['setosa' 'versicolor' 'virginica']\n",
            "Degree: 4\n",
            "\n",
            "Class 0 - Precision: 1.0000, Recall: 1.0000, F1-score: 1.0000\n",
            "Class 1 - Precision: 0.8571, Recall: 0.6000, F1-score: 0.7059\n",
            "Class 2 - Precision: 0.5556, Recall: 0.8333, F1-score: 0.6667\n",
            "Accuracy: 0.8333\n"
          ]
        },
        {
          "output_type": "stream",
          "name": "stderr",
          "text": [
            "<ipython-input-52-3ecead7ea473>:46: DeprecationWarning: Starting with ImageIO v3 the behavior of this function will switch to that of iio.v3.imread. To keep the current behavior (and make this warning disappear) use `import imageio.v2 as imageio` or call `imageio.v2.imread` directly.\n",
            "  images_conf.append(imageio.imread(filename3))\n",
            "<ipython-input-52-3ecead7ea473>:25: DeprecationWarning: Starting with ImageIO v3 the behavior of this function will switch to that of iio.v3.imread. To keep the current behavior (and make this warning disappear) use `import imageio.v2 as imageio` or call `imageio.v2.imread` directly.\n",
            "  images_train.append(imageio.imread(filename1))\n",
            "<ipython-input-52-3ecead7ea473>:32: DeprecationWarning: Starting with ImageIO v3 the behavior of this function will switch to that of iio.v3.imread. To keep the current behavior (and make this warning disappear) use `import imageio.v2 as imageio` or call `imageio.v2.imread` directly.\n",
            "  images_test.append(imageio.imread(filename2))\n"
          ]
        },
        {
          "output_type": "stream",
          "name": "stdout",
          "text": [
            "['setosa' 'versicolor' 'virginica']\n",
            "Degree: 5\n",
            "\n",
            "Class 0 - Precision: 1.0000, Recall: 1.0000, F1-score: 1.0000\n",
            "Class 1 - Precision: 0.7778, Recall: 0.7000, F1-score: 0.7368\n",
            "Class 2 - Precision: 0.5714, Recall: 0.6667, F1-score: 0.6154\n",
            "Accuracy: 0.8333\n"
          ]
        },
        {
          "output_type": "stream",
          "name": "stderr",
          "text": [
            "<ipython-input-52-3ecead7ea473>:46: DeprecationWarning: Starting with ImageIO v3 the behavior of this function will switch to that of iio.v3.imread. To keep the current behavior (and make this warning disappear) use `import imageio.v2 as imageio` or call `imageio.v2.imread` directly.\n",
            "  images_conf.append(imageio.imread(filename3))\n",
            "<ipython-input-52-3ecead7ea473>:25: DeprecationWarning: Starting with ImageIO v3 the behavior of this function will switch to that of iio.v3.imread. To keep the current behavior (and make this warning disappear) use `import imageio.v2 as imageio` or call `imageio.v2.imread` directly.\n",
            "  images_train.append(imageio.imread(filename1))\n",
            "<ipython-input-52-3ecead7ea473>:32: DeprecationWarning: Starting with ImageIO v3 the behavior of this function will switch to that of iio.v3.imread. To keep the current behavior (and make this warning disappear) use `import imageio.v2 as imageio` or call `imageio.v2.imread` directly.\n",
            "  images_test.append(imageio.imread(filename2))\n"
          ]
        },
        {
          "output_type": "stream",
          "name": "stdout",
          "text": [
            "['setosa' 'versicolor' 'virginica']\n",
            "Degree: 6\n",
            "\n",
            "Class 0 - Precision: 1.0000, Recall: 1.0000, F1-score: 1.0000\n",
            "Class 1 - Precision: 0.7778, Recall: 0.7000, F1-score: 0.7368\n",
            "Class 2 - Precision: 0.5714, Recall: 0.6667, F1-score: 0.6154\n",
            "Accuracy: 0.8333\n"
          ]
        },
        {
          "output_type": "stream",
          "name": "stderr",
          "text": [
            "<ipython-input-52-3ecead7ea473>:46: DeprecationWarning: Starting with ImageIO v3 the behavior of this function will switch to that of iio.v3.imread. To keep the current behavior (and make this warning disappear) use `import imageio.v2 as imageio` or call `imageio.v2.imread` directly.\n",
            "  images_conf.append(imageio.imread(filename3))\n",
            "<ipython-input-52-3ecead7ea473>:25: DeprecationWarning: Starting with ImageIO v3 the behavior of this function will switch to that of iio.v3.imread. To keep the current behavior (and make this warning disappear) use `import imageio.v2 as imageio` or call `imageio.v2.imread` directly.\n",
            "  images_train.append(imageio.imread(filename1))\n",
            "<ipython-input-49-fd570147bdbb>:2: RuntimeWarning: More than 20 figures have been opened. Figures created through the pyplot interface (`matplotlib.pyplot.figure`) are retained until explicitly closed and may consume too much memory. (To control this warning, see the rcParam `figure.max_open_warning`). Consider using `matplotlib.pyplot.close()`.\n",
            "  plt.figure(figsize=(8, 6))\n",
            "<ipython-input-52-3ecead7ea473>:32: DeprecationWarning: Starting with ImageIO v3 the behavior of this function will switch to that of iio.v3.imread. To keep the current behavior (and make this warning disappear) use `import imageio.v2 as imageio` or call `imageio.v2.imread` directly.\n",
            "  images_test.append(imageio.imread(filename2))\n",
            "<ipython-input-52-3ecead7ea473>:39: RuntimeWarning: More than 20 figures have been opened. Figures created through the pyplot interface (`matplotlib.pyplot.figure`) are retained until explicitly closed and may consume too much memory. (To control this warning, see the rcParam `figure.max_open_warning`). Consider using `matplotlib.pyplot.close()`.\n",
            "  plt.figure()\n"
          ]
        },
        {
          "output_type": "stream",
          "name": "stdout",
          "text": [
            "['setosa' 'versicolor' 'virginica']\n",
            "Degree: 7\n",
            "\n",
            "Class 0 - Precision: 0.9333, Recall: 1.0000, F1-score: 0.9655\n",
            "Class 1 - Precision: 1.0000, Recall: 0.7000, F1-score: 0.8235\n",
            "Class 2 - Precision: 0.6250, Recall: 0.8333, F1-score: 0.7143\n",
            "Accuracy: 0.8667\n"
          ]
        },
        {
          "output_type": "stream",
          "name": "stderr",
          "text": [
            "<ipython-input-52-3ecead7ea473>:46: DeprecationWarning: Starting with ImageIO v3 the behavior of this function will switch to that of iio.v3.imread. To keep the current behavior (and make this warning disappear) use `import imageio.v2 as imageio` or call `imageio.v2.imread` directly.\n",
            "  images_conf.append(imageio.imread(filename3))\n"
          ]
        },
        {
          "output_type": "stream",
          "name": "stdout",
          "text": [
            "No support vectors found\n",
            "No support vectors found\n"
          ]
        },
        {
          "output_type": "stream",
          "name": "stderr",
          "text": [
            "<ipython-input-52-3ecead7ea473>:25: DeprecationWarning: Starting with ImageIO v3 the behavior of this function will switch to that of iio.v3.imread. To keep the current behavior (and make this warning disappear) use `import imageio.v2 as imageio` or call `imageio.v2.imread` directly.\n",
            "  images_train.append(imageio.imread(filename1))\n"
          ]
        },
        {
          "output_type": "stream",
          "name": "stdout",
          "text": [
            "No support vectors found\n"
          ]
        },
        {
          "output_type": "stream",
          "name": "stderr",
          "text": [
            "<ipython-input-52-3ecead7ea473>:32: DeprecationWarning: Starting with ImageIO v3 the behavior of this function will switch to that of iio.v3.imread. To keep the current behavior (and make this warning disappear) use `import imageio.v2 as imageio` or call `imageio.v2.imread` directly.\n",
            "  images_test.append(imageio.imread(filename2))\n"
          ]
        },
        {
          "output_type": "stream",
          "name": "stdout",
          "text": [
            "['setosa' 'versicolor' 'virginica']\n",
            "Degree: 8\n",
            "\n",
            "Class 0 - Precision: 1.0000, Recall: 0.0714, F1-score: 0.1333\n",
            "Class 1 - Precision: 0.7778, Recall: 0.7000, F1-score: 0.7368\n",
            "Class 2 - Precision: 0.2000, Recall: 0.6667, F1-score: 0.3077\n",
            "Accuracy: 0.4000\n"
          ]
        },
        {
          "output_type": "stream",
          "name": "stderr",
          "text": [
            "<ipython-input-52-3ecead7ea473>:46: DeprecationWarning: Starting with ImageIO v3 the behavior of this function will switch to that of iio.v3.imread. To keep the current behavior (and make this warning disappear) use `import imageio.v2 as imageio` or call `imageio.v2.imread` directly.\n",
            "  images_conf.append(imageio.imread(filename3))\n"
          ]
        },
        {
          "output_type": "stream",
          "name": "stdout",
          "text": [
            "No support vectors found\n",
            "No support vectors found\n"
          ]
        },
        {
          "output_type": "stream",
          "name": "stderr",
          "text": [
            "<ipython-input-52-3ecead7ea473>:25: DeprecationWarning: Starting with ImageIO v3 the behavior of this function will switch to that of iio.v3.imread. To keep the current behavior (and make this warning disappear) use `import imageio.v2 as imageio` or call `imageio.v2.imread` directly.\n",
            "  images_train.append(imageio.imread(filename1))\n"
          ]
        },
        {
          "output_type": "stream",
          "name": "stdout",
          "text": [
            "No support vectors found\n"
          ]
        },
        {
          "output_type": "stream",
          "name": "stderr",
          "text": [
            "<ipython-input-52-3ecead7ea473>:32: DeprecationWarning: Starting with ImageIO v3 the behavior of this function will switch to that of iio.v3.imread. To keep the current behavior (and make this warning disappear) use `import imageio.v2 as imageio` or call `imageio.v2.imread` directly.\n",
            "  images_test.append(imageio.imread(filename2))\n",
            "/usr/local/lib/python3.10/dist-packages/sklearn/metrics/_classification.py:1344: UndefinedMetricWarning: Precision is ill-defined and being set to 0.0 in labels with no predicted samples. Use `zero_division` parameter to control this behavior.\n",
            "  _warn_prf(average, modifier, msg_start, len(result))\n"
          ]
        },
        {
          "output_type": "stream",
          "name": "stdout",
          "text": [
            "['setosa' 'versicolor' 'virginica']\n",
            "Degree: 9\n",
            "\n",
            "Class 0 - Precision: 0.0000, Recall: 0.0000, F1-score: 0.0000\n",
            "Class 1 - Precision: 0.3043, Recall: 0.7000, F1-score: 0.4242\n",
            "Class 2 - Precision: 0.5714, Recall: 0.6667, F1-score: 0.6154\n",
            "Accuracy: 0.3667\n"
          ]
        },
        {
          "output_type": "stream",
          "name": "stderr",
          "text": [
            "<ipython-input-52-3ecead7ea473>:46: DeprecationWarning: Starting with ImageIO v3 the behavior of this function will switch to that of iio.v3.imread. To keep the current behavior (and make this warning disappear) use `import imageio.v2 as imageio` or call `imageio.v2.imread` directly.\n",
            "  images_conf.append(imageio.imread(filename3))\n"
          ]
        },
        {
          "output_type": "stream",
          "name": "stdout",
          "text": [
            "No support vectors found\n",
            "No support vectors found\n"
          ]
        },
        {
          "output_type": "stream",
          "name": "stderr",
          "text": [
            "<ipython-input-52-3ecead7ea473>:25: DeprecationWarning: Starting with ImageIO v3 the behavior of this function will switch to that of iio.v3.imread. To keep the current behavior (and make this warning disappear) use `import imageio.v2 as imageio` or call `imageio.v2.imread` directly.\n",
            "  images_train.append(imageio.imread(filename1))\n"
          ]
        },
        {
          "output_type": "stream",
          "name": "stdout",
          "text": [
            "No support vectors found\n"
          ]
        },
        {
          "output_type": "stream",
          "name": "stderr",
          "text": [
            "<ipython-input-52-3ecead7ea473>:32: DeprecationWarning: Starting with ImageIO v3 the behavior of this function will switch to that of iio.v3.imread. To keep the current behavior (and make this warning disappear) use `import imageio.v2 as imageio` or call `imageio.v2.imread` directly.\n",
            "  images_test.append(imageio.imread(filename2))\n",
            "/usr/local/lib/python3.10/dist-packages/sklearn/metrics/_classification.py:1344: UndefinedMetricWarning: Precision is ill-defined and being set to 0.0 in labels with no predicted samples. Use `zero_division` parameter to control this behavior.\n",
            "  _warn_prf(average, modifier, msg_start, len(result))\n"
          ]
        },
        {
          "output_type": "stream",
          "name": "stdout",
          "text": [
            "['setosa' 'versicolor' 'virginica']\n",
            "Degree: 10\n",
            "\n",
            "Class 0 - Precision: 0.0000, Recall: 0.0000, F1-score: 0.0000\n",
            "Class 1 - Precision: 0.7273, Recall: 0.8000, F1-score: 0.7619\n",
            "Class 2 - Precision: 0.2105, Recall: 0.6667, F1-score: 0.3200\n",
            "Accuracy: 0.4000\n"
          ]
        },
        {
          "output_type": "stream",
          "name": "stderr",
          "text": [
            "<ipython-input-52-3ecead7ea473>:46: DeprecationWarning: Starting with ImageIO v3 the behavior of this function will switch to that of iio.v3.imread. To keep the current behavior (and make this warning disappear) use `import imageio.v2 as imageio` or call `imageio.v2.imread` directly.\n",
            "  images_conf.append(imageio.imread(filename3))\n"
          ]
        },
        {
          "output_type": "stream",
          "name": "stdout",
          "text": [
            "GIF saved as ./svm_poly_degrees_train_support_vector_PCA.gif\n",
            "GIF saved as ./svm_poly_degrees_test_support_vector_PCA.gif\n",
            "GIF saved as ./svm_poly_degrees_Confusion_Matrix_PCA.gif\n"
          ]
        },
        {
          "output_type": "display_data",
          "data": {
            "text/plain": [
              "<Figure size 640x480 with 0 Axes>"
            ]
          },
          "metadata": {}
        },
        {
          "output_type": "display_data",
          "data": {
            "text/plain": [
              "<Figure size 640x480 with 0 Axes>"
            ]
          },
          "metadata": {}
        },
        {
          "output_type": "display_data",
          "data": {
            "text/plain": [
              "<Figure size 640x480 with 0 Axes>"
            ]
          },
          "metadata": {}
        },
        {
          "output_type": "display_data",
          "data": {
            "text/plain": [
              "<Figure size 640x480 with 0 Axes>"
            ]
          },
          "metadata": {}
        },
        {
          "output_type": "display_data",
          "data": {
            "text/plain": [
              "<Figure size 640x480 with 0 Axes>"
            ]
          },
          "metadata": {}
        },
        {
          "output_type": "display_data",
          "data": {
            "text/plain": [
              "<Figure size 640x480 with 0 Axes>"
            ]
          },
          "metadata": {}
        },
        {
          "output_type": "display_data",
          "data": {
            "text/plain": [
              "<Figure size 640x480 with 0 Axes>"
            ]
          },
          "metadata": {}
        },
        {
          "output_type": "display_data",
          "data": {
            "text/plain": [
              "<Figure size 640x480 with 0 Axes>"
            ]
          },
          "metadata": {}
        },
        {
          "output_type": "display_data",
          "data": {
            "text/plain": [
              "<Figure size 640x480 with 0 Axes>"
            ]
          },
          "metadata": {}
        },
        {
          "output_type": "display_data",
          "data": {
            "text/plain": [
              "<Figure size 640x480 with 0 Axes>"
            ]
          },
          "metadata": {}
        },
        {
          "output_type": "display_data",
          "data": {
            "text/plain": [
              "<Figure size 640x480 with 0 Axes>"
            ]
          },
          "metadata": {}
        },
        {
          "output_type": "display_data",
          "data": {
            "text/plain": [
              "<Figure size 640x480 with 0 Axes>"
            ]
          },
          "metadata": {}
        },
        {
          "output_type": "display_data",
          "data": {
            "text/plain": [
              "<Figure size 640x480 with 0 Axes>"
            ]
          },
          "metadata": {}
        },
        {
          "output_type": "display_data",
          "data": {
            "text/plain": [
              "<Figure size 640x480 with 0 Axes>"
            ]
          },
          "metadata": {}
        },
        {
          "output_type": "display_data",
          "data": {
            "text/plain": [
              "<Figure size 640x480 with 0 Axes>"
            ]
          },
          "metadata": {}
        },
        {
          "output_type": "display_data",
          "data": {
            "text/plain": [
              "<Figure size 640x480 with 0 Axes>"
            ]
          },
          "metadata": {}
        },
        {
          "output_type": "display_data",
          "data": {
            "text/plain": [
              "<Figure size 640x480 with 0 Axes>"
            ]
          },
          "metadata": {}
        },
        {
          "output_type": "display_data",
          "data": {
            "text/plain": [
              "<Figure size 640x480 with 0 Axes>"
            ]
          },
          "metadata": {}
        },
        {
          "output_type": "display_data",
          "data": {
            "text/plain": [
              "<Figure size 640x480 with 0 Axes>"
            ]
          },
          "metadata": {}
        },
        {
          "output_type": "display_data",
          "data": {
            "text/plain": [
              "<Figure size 640x480 with 0 Axes>"
            ]
          },
          "metadata": {}
        },
        {
          "output_type": "display_data",
          "data": {
            "text/plain": [
              "<Figure size 640x480 with 0 Axes>"
            ]
          },
          "metadata": {}
        },
        {
          "output_type": "display_data",
          "data": {
            "text/plain": [
              "<Figure size 640x480 with 0 Axes>"
            ]
          },
          "metadata": {}
        },
        {
          "output_type": "display_data",
          "data": {
            "text/plain": [
              "<Figure size 640x480 with 0 Axes>"
            ]
          },
          "metadata": {}
        },
        {
          "output_type": "display_data",
          "data": {
            "text/plain": [
              "<Figure size 640x480 with 0 Axes>"
            ]
          },
          "metadata": {}
        },
        {
          "output_type": "display_data",
          "data": {
            "text/plain": [
              "<Figure size 640x480 with 0 Axes>"
            ]
          },
          "metadata": {}
        },
        {
          "output_type": "display_data",
          "data": {
            "text/plain": [
              "<Figure size 640x480 with 0 Axes>"
            ]
          },
          "metadata": {}
        },
        {
          "output_type": "display_data",
          "data": {
            "text/plain": [
              "<Figure size 640x480 with 0 Axes>"
            ]
          },
          "metadata": {}
        },
        {
          "output_type": "display_data",
          "data": {
            "text/plain": [
              "<Figure size 640x480 with 0 Axes>"
            ]
          },
          "metadata": {}
        },
        {
          "output_type": "display_data",
          "data": {
            "text/plain": [
              "<Figure size 640x480 with 0 Axes>"
            ]
          },
          "metadata": {}
        },
        {
          "output_type": "display_data",
          "data": {
            "text/plain": [
              "<Figure size 640x480 with 0 Axes>"
            ]
          },
          "metadata": {}
        }
      ]
    },
    {
      "cell_type": "code",
      "source": [
        "%cd ..\n"
      ],
      "metadata": {
        "colab": {
          "base_uri": "https://localhost:8080/"
        },
        "id": "zS3BWrqPFfii",
        "outputId": "d45cefb0-6338-4b77-fe9e-300f4eaba4b9"
      },
      "execution_count": 53,
      "outputs": [
        {
          "output_type": "stream",
          "name": "stdout",
          "text": [
            "/content\n"
          ]
        }
      ]
    },
    {
      "cell_type": "code",
      "source": [
        "for i in degrees:\n",
        "  # Plot the values against the custom indexes\n",
        "  plt.plot(i, acc[i-1], marker='o', color='k')\n",
        "\n",
        "plt.title('Accuracy of SVM with Polynomial Kernel for Different Degrees')\n",
        "plt.xlabel('Degree of Polynomial Kernel')\n",
        "plt.ylabel('Accuracy')\n",
        "plt.xticks(degrees)\n",
        "plt.grid(True)\n",
        "plt.grid(True)\n",
        "plt.show()"
      ],
      "metadata": {
        "colab": {
          "base_uri": "https://localhost:8080/",
          "height": 485
        },
        "id": "9v8tnh58Fhkr",
        "outputId": "306b53ac-b375-4ec0-8163-cd3c653cba70"
      },
      "execution_count": 54,
      "outputs": [
        {
          "output_type": "display_data",
          "data": {
            "text/plain": [
              "<Figure size 640x480 with 1 Axes>"
            ],
            "image/png": "[encoded data removed]"
          },
          "metadata": {}
        }
      ]
    }
  ]
}